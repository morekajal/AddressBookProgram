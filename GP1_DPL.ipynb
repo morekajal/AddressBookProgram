{
  "nbformat": 4,
  "nbformat_minor": 0,
  "metadata": {
    "colab": {
      "name": "GP1_DPL.ipynb",
      "provenance": [],
      "authorship_tag": "ABX9TyPtCrOlMl2u8OfaBO6jzpCk",
      "include_colab_link": true
    },
    "kernelspec": {
      "name": "python3",
      "display_name": "Python 3"
    },
    "language_info": {
      "name": "python"
    }
  },
  "cells": [
    {
      "cell_type": "markdown",
      "metadata": {
        "id": "view-in-github",
        "colab_type": "text"
      },
      "source": [
        "<a href=\"https://colab.research.google.com/github/MoreKajal/AddressBookProgram/blob/main/GP1_DPL.ipynb\" target=\"_parent\"><img src=\"https://colab.research.google.com/assets/colab-badge.svg\" alt=\"Open In Colab\"/></a>"
      ]
    },
    {
      "cell_type": "markdown",
      "metadata": {
        "id": "o_Ry8Tey6S43"
      },
      "source": [
        "Dream Premier League (DPL)\n",
        "A match of DPL is going on. \n",
        "Team Aravali has a made score of 195 for 7 in 20 overs and \n",
        "the opponent Team Shivalik is doing some analytics to find out what they need to do to win. \n",
        "You are the Data Scientist of the Team Shivalik and you have been asked to help them."
      ]
    },
    {
      "cell_type": "markdown",
      "metadata": {
        "id": "JlY1KwLG1zvd"
      },
      "source": [
        "Problem 1\n",
        "\n",
        "Team Shivalik has stored the runs made by Team Aravali players in the following dictionary."
      ]
    },
    {
      "cell_type": "code",
      "metadata": {
        "id": "5gG8s9MQ11Om"
      },
      "source": [
        "aravali = {'Dhoni':25, 'Virat':31, 'Pollard':11, 'Rohit':0, 'Maxwell':12, 'Sachin':59, 'Sehwag':12}"
      ],
      "execution_count": null,
      "outputs": []
    },
    {
      "cell_type": "markdown",
      "metadata": {
        "id": "HP3G9EYs2WDH"
      },
      "source": [
        "Get the list of all players in Team Aravali"
      ]
    },
    {
      "cell_type": "code",
      "metadata": {
        "colab": {
          "base_uri": "https://localhost:8080/"
        },
        "id": "bCi3ovRx2adc",
        "outputId": "d7905167-7059-45f2-83b8-a6eea1994ad3"
      },
      "source": [
        "#aravali.keys()   #gives dict\n",
        "\n",
        "aravali_players = list(aravali.keys())\n",
        "print(aravali_players)"
      ],
      "execution_count": null,
      "outputs": [
        {
          "output_type": "stream",
          "name": "stdout",
          "text": [
            "['Dhoni', 'Virat', 'Pollard', 'Rohit', 'Maxwell', 'Sachin', 'Sehwag']\n"
          ]
        }
      ]
    },
    {
      "cell_type": "markdown",
      "metadata": {
        "id": "W6sQc6b23K2D"
      },
      "source": [
        "Problem 2\n",
        "\n",
        "By mistake, the runs made by Rohit was recorded as 0. Your next task is to figure out how many runs were made by Rohit and update the dictionary"
      ]
    },
    {
      "cell_type": "code",
      "metadata": {
        "colab": {
          "base_uri": "https://localhost:8080/"
        },
        "id": "NdBoXaQv3RsC",
        "outputId": "b5c5cbd1-d9b2-4569-896b-2fac9a2c0fa1"
      },
      "source": [
        "#Total runs by aravali - Sum of all values listed for aravali team\n",
        "\n",
        "total_run_aravali = 195\n",
        "\n",
        "run_by_rohit = total_run_aravali - sum(list(aravali.values()))\n",
        "print('The runs made by Rohit are :', run_by_rohit)"
      ],
      "execution_count": null,
      "outputs": [
        {
          "output_type": "stream",
          "name": "stdout",
          "text": [
            "The runs made by Rohit are : 45\n"
          ]
        }
      ]
    },
    {
      "cell_type": "code",
      "metadata": {
        "colab": {
          "base_uri": "https://localhost:8080/"
        },
        "id": "xrwtyHtr31fL",
        "outputId": "1fdbc02e-0c94-4ca4-8bb8-62a09a8c0ab4"
      },
      "source": [
        "# Update the dictionary with correct value of runs\n",
        "#To upgate a dict : dict_name['Key'] = updated value\n",
        "\n",
        "aravali['Rohit' ] = run_by_rohit\n",
        "aravali\n"
      ],
      "execution_count": null,
      "outputs": [
        {
          "output_type": "execute_result",
          "data": {
            "text/plain": [
              "{'Dhoni': 25,\n",
              " 'Maxwell': 12,\n",
              " 'Pollard': 11,\n",
              " 'Rohit': 45,\n",
              " 'Sachin': 59,\n",
              " 'Sehwag': 12,\n",
              " 'Virat': 31}"
            ]
          },
          "metadata": {},
          "execution_count": 23
        }
      ]
    },
    {
      "cell_type": "markdown",
      "metadata": {
        "id": "NaSO0UJL48XL"
      },
      "source": [
        "Problem 3\n",
        "\n",
        "Your next task is to find out who scored the second highest runs in Team Aravali"
      ]
    },
    {
      "cell_type": "code",
      "metadata": {
        "colab": {
          "base_uri": "https://localhost:8080/"
        },
        "id": "99mhFASI4_jK",
        "outputId": "1e73ad67-1196-4ff1-e66c-513edd711a53"
      },
      "source": [
        "print(list(aravali.keys()))\n",
        "print(list(aravali.values()))   # These are given\n",
        "\n",
        "#Now to know second highest we can use list sorting\n",
        "\n",
        "runs_scored = sorted(aravali.values(), reverse=True)   #True gives all items in Descending order, in case of False, it will be Ascending order\n",
        "print(runs_scored)\n",
        "\n",
        "#Now we will use index '1' as it has the second highest score, with the key of that score\n",
        "print(list(aravali.keys())[list(aravali.values()).index(runs_scored[1])])"
      ],
      "execution_count": null,
      "outputs": [
        {
          "output_type": "stream",
          "name": "stdout",
          "text": [
            "['Dhoni', 'Virat', 'Pollard', 'Rohit', 'Maxwell', 'Sachin', 'Sehwag']\n",
            "[25, 31, 11, 45, 12, 59, 12]\n",
            "[59, 45, 31, 25, 12, 12, 11]\n",
            "Rohit\n"
          ]
        }
      ]
    }
  ]
}